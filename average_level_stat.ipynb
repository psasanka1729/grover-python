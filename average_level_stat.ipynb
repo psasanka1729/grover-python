{
 "cells": [
  {
   "cell_type": "markdown",
   "id": "c440d90a",
   "metadata": {},
   "source": [
    "This code take a text file of level statistics for different noise realizations and returns the average and standard deviation of level statistics."
   ]
  },
  {
   "cell_type": "code",
   "execution_count": 3,
   "id": "f740093e",
   "metadata": {},
   "outputs": [],
   "source": [
    "import numpy as np\n",
    "\n",
    "\n",
    "L = 10\n",
    "# Total length of level statistics\n",
    "N = 2**L-4\n",
    "\n",
    "# Loads the file.\n",
    "e_number,r = np.loadtxt('10_h_eff_level_statistics_1786_1849.txt', delimiter = '\\t', unpack=True)\n",
    "\n",
    "# Number of disorder realizations.\n",
    "M = int(len(r)/N)\n",
    "\n",
    "# Reshaping the data to a matrix of shape = Number of disorder x N.\n",
    "rm = np.matrix(np.reshape(r,(M, N)))\n",
    "\n",
    "# Average over noise realizations.\n",
    "r_avg = np.sum(rm, axis = 0)/M\n",
    "\n",
    "# Standard error of mean SOE = (sample std) / sqrt(N-1)..\n",
    "r_SE = []\n",
    "for j in range(N):\n",
    "    r_SE.append((np.std(rm[:,j:j+1], axis = 0,ddof=1)/np.sqrt(M-1))[0,0])\n",
    "    \n",
    "pf = open('10_average_h_eff_level_statistics_1786_1849.txt','w')\n",
    "pf = open('10_average_h_eff_level_statistics_1786_1849.txt','a')\n",
    "\n",
    "for i in range(N):\n",
    "    pf.write(str(i+1)+'\\t'+ str(r_avg[0,i]) +'\\t' + str(r_SE[i])+'\\n')\n",
    "pf.close()"
   ]
  }
 ],
 "metadata": {
  "kernelspec": {
   "display_name": "Python 3 (ipykernel)",
   "language": "python",
   "name": "python3"
  },
  "language_info": {
   "codemirror_mode": {
    "name": "ipython",
    "version": 3
   },
   "file_extension": ".py",
   "mimetype": "text/x-python",
   "name": "python",
   "nbconvert_exporter": "python",
   "pygments_lexer": "ipython3",
   "version": "3.9.12"
  }
 },
 "nbformat": 4,
 "nbformat_minor": 5
}
