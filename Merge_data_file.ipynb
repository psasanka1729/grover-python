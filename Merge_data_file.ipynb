{
 "cells": [
  {
   "cell_type": "code",
   "execution_count": 97,
   "id": "ac95683d-a4ec-408e-8f69-145a57c4b2ac",
   "metadata": {},
   "outputs": [],
   "source": [
    "import numpy as np\n",
    "import os\n",
    "path = \"/Users/sasankadowarah/grover-python\"#os.getcwd()"
   ]
  },
  {
   "cell_type": "code",
   "execution_count": 98,
   "id": "bc85753a-bfd6-4d40-ab21-f98848f009da",
   "metadata": {},
   "outputs": [],
   "source": [
    "L = 12"
   ]
  },
  {
   "cell_type": "code",
   "execution_count": 99,
   "id": "dee3c161-87db-4ac6-a217-f5f7e37c5d55",
   "metadata": {},
   "outputs": [],
   "source": [
    "seed = 5000"
   ]
  },
  {
   "cell_type": "code",
   "execution_count": 100,
   "id": "2ca69b7e-5f21-42e8-94c1-ace358fcf77a",
   "metadata": {},
   "outputs": [],
   "source": [
    "delta_start = 0.0\n",
    "delta_end = 0.18"
   ]
  },
  {
   "cell_type": "code",
   "execution_count": 101,
   "id": "da3855dc-9e00-459b-ba8f-3bc13307b67d",
   "metadata": {},
   "outputs": [],
   "source": [
    "#10_special_states_h_eff_1000_1063\n",
    "folder_name = \"12_5000_0_0.18_phi_delta_qiskit\"\n",
    "data_file_name = \"eigenvalues\"\n",
    "master_file_name = str(seed)+\"_plot_data\""
   ]
  },
  {
   "cell_type": "code",
   "execution_count": 102,
   "id": "af76b633-f395-4fd7-af83-a6cf47b51d86",
   "metadata": {},
   "outputs": [
    {
     "name": "stdout",
     "output_type": "stream",
     "text": [
      "0\n",
      "1\n",
      "2\n",
      "3\n",
      "4\n",
      "5\n",
      "6\n",
      "7\n",
      "8\n",
      "9\n",
      "10\n",
      "11\n",
      "12\n",
      "13\n",
      "14\n",
      "15\n",
      "16\n",
      "17\n",
      "18\n",
      "19\n",
      "20\n",
      "21\n",
      "22\n",
      "23\n",
      "24\n",
      "25\n",
      "26\n",
      "27\n",
      "28\n",
      "29\n",
      "30\n",
      "31\n"
     ]
    }
   ],
   "source": [
    "master_file = open(str(L)+\"_\"+str(master_file_name)+\"_\"+str(delta_start)+\"_\"+str(delta_end)+\".txt\",\"w\")\n",
    "#master_file_energy = open(str(L)+\"_trace_\"+str(master_file_name_1)+\"_\"+str(seed_start)+\"_\"+str(seed_end)+\".txt\",\"w\")\n",
    "for i in range(32):\n",
    "    print(i)\n",
    "    os.chdir(path + \"/\"+str(folder_name) +\"/b\" + str(i)) # Inside b\n",
    "    \n",
    "    #r\"\"\"\n",
    "    #= energy vs disorder.=#\n",
    "    delta,energy,entropy = np.loadtxt(str(data_file_name)+'.txt', delimiter = '\\t', unpack=True)\n",
    "    os.chdir(path) # Change folder to path to edit the master file.\n",
    "    for j in range(len(delta)): # Writes to the master file.\n",
    "        master_file.write(str(delta[j])+\"\\t\"+str(energy[j])+\"\\t\"+str(entropy[j])+\"\\n\")\n",
    "    #\"\"\"\n",
    "\n",
    "master_file.close() # Closes the master file.    \n",
    "#master_file_energy.close() # Closes the master file.    "
   ]
  }
 ],
 "metadata": {
  "kernelspec": {
   "display_name": "Python 3 (ipykernel)",
   "language": "python",
   "name": "python3"
  },
  "language_info": {
   "codemirror_mode": {
    "name": "ipython",
    "version": 3
   },
   "file_extension": ".py",
   "mimetype": "text/x-python",
   "name": "python",
   "nbconvert_exporter": "python",
   "pygments_lexer": "ipython3",
   "version": "3.9.12"
  }
 },
 "nbformat": 4,
 "nbformat_minor": 5
}
