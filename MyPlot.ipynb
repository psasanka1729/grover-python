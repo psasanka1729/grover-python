{
 "cells": [
  {
   "cell_type": "code",
   "execution_count": 7,
   "id": "5bd4821a",
   "metadata": {},
   "outputs": [],
   "source": [
    "using Plots\n",
    "using DelimitedFiles\n",
    "using ColorSchemes\n",
    "#using CSV\n",
    "using LaTeXStrings\n",
    "#using PyPlot"
   ]
  },
  {
   "cell_type": "code",
   "execution_count": 8,
   "id": "4b243981",
   "metadata": {},
   "outputs": [],
   "source": [
    "file = raw\"12_1945_plot_data_0.0_0.1.txt\"\n",
    "M = readdlm(file)\n",
    "delta = M[:,1]; # index\n",
    "energy = M[:,2]; # eigenvalue\n",
    "entropy = M[:,3]; # entropy"
   ]
  },
  {
   "cell_type": "code",
   "execution_count": 9,
   "id": "31464018-65c5-49f2-a410-545d44181311",
   "metadata": {},
   "outputs": [],
   "source": [
    "L = 12\n",
    "S_Page = 0.5*L*log(2)-0.5\n",
    "quasienergy = pi-atan(2/sqrt(2^L-1));"
   ]
  },
  {
   "cell_type": "code",
   "execution_count": 10,
   "id": "c9f7da85",
   "metadata": {},
   "outputs": [
    {
     "data": {
      "text/plain": [
       "\"/Users/sasankadowarah/grover-python/12_1945_plot_data_0.0_0.1.png\""
      ]
     },
     "execution_count": 10,
     "metadata": {},
     "output_type": "execute_result"
    }
   ],
   "source": [
    "gr()\n",
    "MSW = 0.4\n",
    "Linewidth  = 0.6\n",
    "Markersize = 1\n",
    "MarkerStrokeWidth = 0.0;\n",
    "\n",
    "plot_font = \"Computer Modern\"\n",
    "default(fontfamily=plot_font)\n",
    "\n",
    "\n",
    "\n",
    "MyTitle = \"L = \"*string(L)*\", Page Value = \"*string(round(0.5*L*log(2)-0.5;digits = 2))*\" \";\n",
    "p = plot(delta,energy,\n",
    "    seriestype = :scatter,\n",
    "    markerstrokecolor = \"grey30\",\n",
    "    markerstrokewidth=MarkerStrokeWidth,\n",
    "    markersize=Markersize,\n",
    "    thickness_scaling = 2.6,\n",
    "    xlims=(0,0.02), \n",
    "    ylims=(-3.2,3.2),\n",
    "    title = MyTitle,\n",
    "    label = \"\",\n",
    "    #legend = :bottomleft,\n",
    "    dpi=300,\n",
    "    zcolor = entropy,\n",
    "    grid = false,\n",
    "    #colorbar_title = \"Average entanglement entropy\",\n",
    "    right_margin = Plots.mm,\n",
    "    font=\"CMU Serif\",\n",
    "    color = :jet1,\n",
    "    #:linear_bmy_10_95_c78_n256,#:diverging_rainbow_bgymr_45_85_c67_n256,#:linear_bmy_10_95_c78_n256,#:rainbow1,\n",
    "    #right_margin = 2Plots.mm,\n",
    "    left_margin = Plots.mm,\n",
    "    titlefontsize=10,\n",
    "    guidefontsize=10,\n",
    "    tickfontsize=9,\n",
    "    legendfontsize=8,\n",
    "    framestyle = :box\n",
    "    )\n",
    "\n",
    "yticks!([-pi,-3*pi/4,-pi/2,-pi/4,0,pi/4,pi/2,3*pi/4,pi], [L\"-\\pi\",L\"-3\\pi/4\",L\"-\\pi/2\",L\"-\\pi/4\",L\"0\",L\"\\pi/4\",L\"\\pi/2\",L\"3\\pi/4\",L\"\\pi\"])\n",
    "\n",
    "function ticks_length!(;tl=0.01)\n",
    "    p = Plots.current()\n",
    "    xticks, yticks = Plots.xticks(p)[1][1], Plots.yticks(p)[1][1]\n",
    "    xl, yl = Plots.xlims(p), Plots.ylims(p)\n",
    "    x1, y1 = zero(yticks) .+ xl[1], zero(xticks) .+ yl[1]\n",
    "    sz = p.attr[:size]\n",
    "    r = sz[1]/sz[2]\n",
    "    dx, dy = tl*(xl[2] - xl[1]), tl*r*(yl[2] - yl[1])\n",
    "    plot!([xticks xticks]', [y1 y1 .+ dy]', c=:black, labels=false,linewidth = 1.3)\n",
    "    plot!([x1 x1 .+ dx]', [yticks yticks]', c=:black, labels=false,linewidth = 1.3, xlims=xl, ylims=yl)\n",
    "    return Plots.current()\n",
    "end\n",
    "ticks_length!(tl=0.005)\n",
    "plot!(size=(1200,1000))\n",
    "#plot!(yticks = ([(-pi) : (-pi/2): (-pi/4): 0: (pi/4) : (pi/2) : pi;], [\"-\\\\pi\", \"-\\\\pi/2\", \"-\\\\pi/4\",\"0\",\"\\\\pi/4\",\"\\\\pi/2\",\"\\\\pi\"]))\n",
    "#hline!([[-quasienergy]],lc=:deeppink1,linestyle= :dashdotdot,legend=false)\n",
    "#hline!([ [0]],lc=:deeppink1,linestyle= :dashdotdot,legend=false)\n",
    "#hline!([ [quasienergy]],lc=:deeppink1,linestyle= :dashdotdot,legend=false)\n",
    "xlabel!(\"Disorder strength, \\$\\\\delta\\$\")\n",
    "ylabel!(\"Quasienergy, \\$\\\\phi_{F}\\$\")\n",
    "plot!(background_color=:white)\n",
    "savefig(\"12_1945_plot_data_0.0_0.1.png\")"
   ]
  },
  {
   "cell_type": "code",
   "execution_count": 11,
   "id": "13cdb056-4eee-4a49-a17b-db5b3d820a99",
   "metadata": {},
   "outputs": [
    {
     "data": {
      "text/plain": [
       "3.66"
      ]
     },
     "execution_count": 11,
     "metadata": {},
     "output_type": "execute_result"
    }
   ],
   "source": [
    "round(0.5*L*log(2)-0.5;digits = 2)"
   ]
  },
  {
   "cell_type": "code",
   "execution_count": 12,
   "id": "bc5139d8",
   "metadata": {},
   "outputs": [],
   "source": [
    "#plot(y_seom,lw=2, color = \"red\", label =\"\" )"
   ]
  }
 ],
 "metadata": {
  "kernelspec": {
   "display_name": "Julia 1.8.1",
   "language": "julia",
   "name": "julia-1.8"
  },
  "language_info": {
   "file_extension": ".jl",
   "mimetype": "application/julia",
   "name": "julia",
   "version": "1.8.1"
  }
 },
 "nbformat": 4,
 "nbformat_minor": 5
}
