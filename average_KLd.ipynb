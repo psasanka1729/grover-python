{
 "cells": [
  {
   "cell_type": "markdown",
   "id": "c440d90a",
   "metadata": {},
   "source": [
    "This code take a text file of level statistics for different noise realizations and returns the average and standard deviation of level statistics."
   ]
  },
  {
   "cell_type": "code",
   "execution_count": 10,
   "id": "05a4ce19",
   "metadata": {},
   "outputs": [],
   "source": [
    "import numpy as np"
   ]
  },
  {
   "cell_type": "code",
   "execution_count": 11,
   "id": "f740093e",
   "metadata": {},
   "outputs": [],
   "source": [
    "L = 10\n",
    "N = 2**L-1\n",
    "\n",
    "'''\n",
    "    J = index.\n",
    "    E = KLD\n",
    "'''\n",
    "e_number,r = np.loadtxt(\"10_KL_divergence_1786_1831.txt\", delimiter = '\\t', unpack=True)"
   ]
  },
  {
   "cell_type": "code",
   "execution_count": 12,
   "id": "466512db",
   "metadata": {},
   "outputs": [],
   "source": [
    "M = int(len(r)/N)\n",
    "rm = np.matrix(np.reshape(r,(M, N)))"
   ]
  },
  {
   "cell_type": "code",
   "execution_count": 13,
   "id": "9863f797-ac78-4ce7-8c88-b92b21889a3c",
   "metadata": {},
   "outputs": [
    {
     "data": {
      "text/plain": [
       "(64, 1023)"
      ]
     },
     "execution_count": 13,
     "metadata": {},
     "output_type": "execute_result"
    }
   ],
   "source": [
    "rm.shape"
   ]
  },
  {
   "cell_type": "code",
   "execution_count": 14,
   "id": "11b8a190",
   "metadata": {},
   "outputs": [],
   "source": [
    "r_avg = np.sum(rm, axis = 0)/M"
   ]
  },
  {
   "cell_type": "code",
   "execution_count": 15,
   "id": "6735f8b2",
   "metadata": {},
   "outputs": [],
   "source": [
    "r_avg_std = []\n",
    "for j in range(N-1):\n",
    "    r_avg_std.append((np.std(rm[:,j:j+1], axis = 0,ddof=1)/np.sqrt(M-1))[0,0]) # calculates the standard deviation of entropy array."
   ]
  },
  {
   "cell_type": "code",
   "execution_count": 16,
   "id": "d3296390-68dc-4b5a-b66e-0caf64303a72",
   "metadata": {},
   "outputs": [
    {
     "data": {
      "text/plain": [
       "1.9665186073485839"
      ]
     },
     "execution_count": 16,
     "metadata": {},
     "output_type": "execute_result"
    }
   ],
   "source": [
    "r_avg[0,1]\n",
    "#r_avg_std[1]"
   ]
  },
  {
   "cell_type": "code",
   "execution_count": 17,
   "id": "374182b1",
   "metadata": {},
   "outputs": [],
   "source": [
    "pf = open(\"10_average_KL_divergence_1786_1831.txt\",'w')\n",
    "pf = open(\"10_average_KL_divergence_1786_1831.txt\",'a')"
   ]
  },
  {
   "cell_type": "code",
   "execution_count": 18,
   "id": "4e001b4b",
   "metadata": {},
   "outputs": [],
   "source": [
    "for i in range(N-1):\n",
    "    pf.write(str(i)+'\\t'+ str(r_avg[0,i]) +'\\t' + str(r_avg_std[i])+'\\n')\n",
    "pf.close()"
   ]
  }
 ],
 "metadata": {
  "kernelspec": {
   "display_name": "Python 3 (ipykernel)",
   "language": "python",
   "name": "python3"
  },
  "language_info": {
   "codemirror_mode": {
    "name": "ipython",
    "version": 3
   },
   "file_extension": ".py",
   "mimetype": "text/x-python",
   "name": "python",
   "nbconvert_exporter": "python",
   "pygments_lexer": "ipython3",
   "version": "3.9.12"
  }
 },
 "nbformat": 4,
 "nbformat_minor": 5
}
