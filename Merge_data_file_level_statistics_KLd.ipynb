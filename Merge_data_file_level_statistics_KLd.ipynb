{
 "cells": [
  {
   "cell_type": "code",
   "execution_count": 21,
   "id": "ac95683d-a4ec-408e-8f69-145a57c4b2ac",
   "metadata": {},
   "outputs": [],
   "source": [
    "import numpy as np\n",
    "import os\n",
    "path = \"/Users/sasankadowarah/grover-python\"#os.getcwd()"
   ]
  },
  {
   "cell_type": "code",
   "execution_count": 22,
   "id": "bc85753a-bfd6-4d40-ab21-f98848f009da",
   "metadata": {},
   "outputs": [],
   "source": [
    "L = 10"
   ]
  },
  {
   "cell_type": "code",
   "execution_count": 23,
   "id": "2ca69b7e-5f21-42e8-94c1-ace358fcf77a",
   "metadata": {},
   "outputs": [],
   "source": [
    "seed_start = 1818\n",
    "seed_end = 1831"
   ]
  },
  {
   "cell_type": "code",
   "execution_count": 24,
   "id": "da3855dc-9e00-459b-ba8f-3bc13307b67d",
   "metadata": {},
   "outputs": [],
   "source": [
    "# 8_1000_1128_h_eff_level_statistics\n",
    "folder_name = str(L)+\"_\"+str(seed_start)+\"_\"+str(seed_end)+\"_h_eff_spectrum_qiskit\"\n",
    "\n",
    "#data_file_name = \"level_statistics\"\n",
    "#master_file_name = \"h_eff_level_statistics\"\n",
    "\n",
    "data_file_name = \"KLd\"\n",
    "master_file_name = \"KL_divergence\""
   ]
  },
  {
   "cell_type": "code",
   "execution_count": 25,
   "id": "af76b633-f395-4fd7-af83-a6cf47b51d86",
   "metadata": {},
   "outputs": [
    {
     "name": "stdout",
     "output_type": "stream",
     "text": [
      "0\n",
      "1\n",
      "2\n",
      "3\n",
      "4\n",
      "5\n",
      "6\n",
      "7\n",
      "8\n",
      "9\n",
      "10\n",
      "11\n",
      "12\n",
      "13\n",
      "14\n",
      "15\n",
      "16\n",
      "17\n",
      "18\n",
      "19\n",
      "20\n",
      "21\n",
      "22\n",
      "23\n",
      "24\n",
      "25\n",
      "26\n",
      "27\n",
      "28\n",
      "29\n",
      "30\n",
      "31\n"
     ]
    }
   ],
   "source": [
    "master_file = open(str(L)+\"_\"+str(master_file_name)+\"_\"+str(seed_start)+\"_\"+str(seed_end)+\".txt\",\"w\")\n",
    "#master_file_energy = open(str(L)+\"_trace_\"+str(master_file_name_1)+\"_\"+str(seed_start)+\"_\"+str(seed_end)+\".txt\",\"w\")\n",
    "for i in range(32):\n",
    "    print(i)\n",
    "    os.chdir(path + \"/\"+str(folder_name) +\"/b\" + str(i)) # Inside b\n",
    "    \n",
    "    \n",
    "    r\"\"\"\n",
    "    #eigenvalue index vs delta_E_n = E_n-E_{n-1}.\n",
    "    eigenvalue_index,delta_E_n = np.loadtxt(str(data_file_name)+'.txt', delimiter = '\\t', unpack=True)\n",
    "    for j in range(len(eigenvalue_index)): # Writes to the master file.\n",
    "        master_file.write(str(eigenvalue_index[j])+\"\\t\"+str(delta_E_n[j])+\"\\n\")    \n",
    "    \"\"\"    \n",
    "    \n",
    "    r\"\"\"\n",
    "    # force data of HDL.\n",
    "    position,force = np.loadtxt(str(data_file_name)+'.txt', delimiter = '\\t', dtype=complex,\n",
    "                                converters={0: lambda s: complex(s.decode().replace('+-', '-'))},unpack=True)\n",
    "    # Writes to the master file.\n",
    "    master_file.write(str(position.real)+'\\t'+str(force.real)+\"\\n\")    \n",
    "    \"\"\"  \n",
    "\n",
    "    #r\"\"\"\n",
    "    #eigenvalue index vs KLd.\n",
    "    eigenvalue_index,KLd = np.loadtxt(str(data_file_name)+'.txt', delimiter = '\\t', unpack=True)\n",
    "    for j in range(len(eigenvalue_index)): # Writes to the master file.\n",
    "        master_file.write(str(eigenvalue_index[j])+\"\\t\"+str(KLd[j])+\"\\n\")     \n",
    "    #\"\"\"\n",
    "    r\"\"\"\n",
    "    #eigenvalue index vs level statistics.\n",
    "    #level_statistics = np.load(\"h_eff_level_statistics.npy\")\n",
    "    eigenvalue_index,level_statistics = np.loadtxt(str(data_file_name)+'.txt', delimiter = '\\t', unpack=True)\n",
    "    for j in range(2**L-4): # Writes to the master file.\n",
    "        master_file.write(str(j+1)+\"\\t\"+str(level_statistics[j])+\"\\n\")    \n",
    "   \"\"\" \n",
    "    \n",
    "    os.chdir(path)\n",
    "master_file.close() # Closes the master file.    \n",
    "#master_file_energy.close() # Closes the master file.    "
   ]
  }
 ],
 "metadata": {
  "kernelspec": {
   "display_name": "Python 3 (ipykernel)",
   "language": "python",
   "name": "python3"
  },
  "language_info": {
   "codemirror_mode": {
    "name": "ipython",
    "version": 3
   },
   "file_extension": ".py",
   "mimetype": "text/x-python",
   "name": "python",
   "nbconvert_exporter": "python",
   "pygments_lexer": "ipython3",
   "version": "3.9.12"
  }
 },
 "nbformat": 4,
 "nbformat_minor": 5
}
