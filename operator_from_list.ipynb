{
 "cells": [
  {
   "cell_type": "code",
   "execution_count": 56,
   "id": "da498273-5d1c-4d23-ade4-0e704062fd07",
   "metadata": {},
   "outputs": [],
   "source": [
    "import numpy as np\n",
    "from scipy.sparse import identity\n",
    "from scipy import sparse"
   ]
  },
  {
   "cell_type": "code",
   "execution_count": 4,
   "id": "a88bfbd1-9bfd-4cb2-a0c4-255fa19b2553",
   "metadata": {},
   "outputs": [],
   "source": [
    "L = 8"
   ]
  },
  {
   "cell_type": "code",
   "execution_count": 21,
   "id": "09f3fc4f-f76a-475f-baa1-d2b73332df7c",
   "metadata": {},
   "outputs": [],
   "source": [
    "gates_list = open('gates_list_'+str(L)+'.txt','r')"
   ]
  },
  {
   "cell_type": "code",
   "execution_count": 22,
   "id": "6e7ee8b6-31d3-4ae1-b9f8-517650db478f",
   "metadata": {},
   "outputs": [],
   "source": [
    "MCX_transpile = []\n",
    "for gates in gates_list:\n",
    "    MCX_transpile.append(gates)"
   ]
  },
  {
   "cell_type": "markdown",
   "id": "409f7fb7-8f83-4db3-8c91-fa6845fc329e",
   "metadata": {},
   "source": [
    "### Generating random number vector"
   ]
  },
  {
   "cell_type": "code",
   "execution_count": 40,
   "id": "16bff81b-a7ad-4edd-b3db-ab6d5504aa00",
   "metadata": {},
   "outputs": [],
   "source": [
    "number_of_gates = len(MCX_transpile)\n",
    "Seed = 4000\n",
    "np.random.seed(Seed)\n",
    "Noise = np.random.rand(number_of_gates)"
   ]
  },
  {
   "cell_type": "markdown",
   "id": "4a3d3f60-4f18-4676-9946-637c9d0fb433",
   "metadata": {},
   "source": [
    "### Pre-defined gates"
   ]
  },
  {
   "cell_type": "code",
   "execution_count": 47,
   "id": "627f360f-b7d5-43e1-8641-8308d6f99430",
   "metadata": {},
   "outputs": [],
   "source": [
    "def H_fixed(): # Hadamad gate acting on one qubit.\n",
    "    \n",
    "    return 1/np.sqrt(2)*np.matrix([[1,1],[1,-1]])\n",
    "\n",
    "def Ry(theta):\n",
    "    return np.matrix([[np.cos(theta/2), -np.sin(theta/2)], [np.sin(theta/2), np.cos(theta/2)]])\n",
    "\n",
    "def sigma_Z():\n",
    "    return np.matrix([[1,0],[0,-1]])\n",
    "\n",
    "def sigma_X():\n",
    "    return np.matrix([[0,1],[1,0]])\n",
    "\n",
    "def Rz(theta):\n",
    "    return np.matrix([[np.exp(-1j*theta/2), 0], [0, np.exp(1j*theta/2)]])"
   ]
  },
  {
   "cell_type": "markdown",
   "id": "defbed53-2fb9-4367-9448-21e1277f3153",
   "metadata": {},
   "source": [
    "### Gates with noise"
   ]
  },
  {
   "cell_type": "code",
   "execution_count": 59,
   "id": "2ce2c676-1c30-4f08-a145-564d22df8049",
   "metadata": {},
   "outputs": [],
   "source": [
    "'''\n",
    "For noise = 0; the following returns the fixed Hadamard gate.\n",
    "'''\n",
    "def Hadamard_variable(noise):\n",
    "    return Ry(np.pi/2+noise)*sigma_Z()\n",
    "\n",
    "def sigma_X_variable(noise):\n",
    "    return Hadamard_variable(noise)*sigma_Z()*Hadamard_variable(noise)\n",
    "\n",
    "def Cx(noise):\n",
    "    final_matrix = np.zeros((2,2))\n",
    "    Pi_0 = np.matrix([[1,0],[0,0]])\n",
    "    final_matrix = sparse.kron(Pi_0,np.identity(2))\n",
    "    Pi_1 = np.matrix([[0,0],[0,1]])\n",
    "    final_matrix = sparse.kron(Pi_1,sigma_X_variable(noise))\n",
    "    return final_matrix.A"
   ]
  },
  {
   "cell_type": "markdown",
   "id": "b813f97c-086a-4909-b4f0-d57ae7b13933",
   "metadata": {},
   "source": [
    "### Sigle qubit quantum gate acting on the n-th qubit"
   ]
  },
  {
   "cell_type": "code",
   "execution_count": 38,
   "id": "c1959d24-ff3d-466d-b60c-6b0e611f9bb4",
   "metadata": {},
   "outputs": [],
   "source": [
    "def N_th_qubit_gate(quantum_gate,qubit_number):\n",
    "    \n",
    "    '''\n",
    "    List below will hold gates acting on one qubit. For example, for L = 3,\n",
    "    the Hadamard gate acting on the qubit 1 is given by = 1 x H x 1, where \n",
    "    x is the Kronecker product. Then, qubits_list = [1,H,1].\n",
    "\n",
    "    ''' \n",
    "    qubits_list = [] \n",
    "    \n",
    "    for i in range(L):\n",
    "        \n",
    "        if i == qubit_number: # qubit_number^th position in the list is the quantum_gate.\n",
    "            \n",
    "            qubits_list.append(quantum_gate)\n",
    "            \n",
    "        else: # Other gates are identity operators.\n",
    "            \n",
    "            qubits_list.append(np.identity(2))\n",
    "            \n",
    "    '''\n",
    "    The following loop performs the Kronecker product.\n",
    "    '''        \n",
    "    \n",
    "    final_matrix = sparse.csr_matrix(qubits_list[0]) # Initializes the final matrix.\n",
    "    \n",
    "    for g in range(1,len(qubits_list)):\n",
    "        \n",
    "        final_matrix = sparse.kron(qubits_list[g],final_matrix) # kronecker product.\n",
    "        \n",
    "    return final_matrix     "
   ]
  },
  {
   "cell_type": "code",
   "execution_count": null,
   "id": "87bfe9d1-1e4e-4ef6-858b-2fe518755ea7",
   "metadata": {},
   "outputs": [],
   "source": [
    "def Grover_operator(Delta):\n",
    "    \n",
    "    '''\n",
    "    First the U_x will be created.\n",
    "    '''\n",
    "    U_x = np.identity(2**L, dtype = complex);\n",
    "    for i in range(L-1):\n",
    "        np.matmul(U_x,N_th_qubit_gate(sigma_X_variable()))"
   ]
  },
  {
   "cell_type": "code",
   "execution_count": 31,
   "id": "e1787e92-74cc-4fd5-b8d5-e1b3341cc8e2",
   "metadata": {},
   "outputs": [],
   "source": [
    "\n",
    "U_x = np.identity(2**L, dtype = complex);"
   ]
  },
  {
   "cell_type": "code",
   "execution_count": null,
   "id": "fa810b27-d058-4032-a8da-706cba7a2954",
   "metadata": {},
   "outputs": [],
   "source": []
  }
 ],
 "metadata": {
  "kernelspec": {
   "display_name": "Python 3 (ipykernel)",
   "language": "python",
   "name": "python3"
  },
  "language_info": {
   "codemirror_mode": {
    "name": "ipython",
    "version": 3
   },
   "file_extension": ".py",
   "mimetype": "text/x-python",
   "name": "python",
   "nbconvert_exporter": "python",
   "pygments_lexer": "ipython3",
   "version": "3.9.12"
  }
 },
 "nbformat": 4,
 "nbformat_minor": 5
}
